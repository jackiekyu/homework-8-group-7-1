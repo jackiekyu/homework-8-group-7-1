{
 "cells": [
  {
   "cell_type": "code",
   "execution_count": 1,
   "metadata": {},
   "outputs": [],
   "source": [
    "import numpy as np\n",
    "import pandas as pd\n",
    "import math\n",
    "from itertools import combinations\n",
    "from itertools import filterfalse\n",
    "import scipy.special\n",
    "%load_ext rpy2.ipython"
   ]
  },
  {
   "cell_type": "code",
   "execution_count": 2,
   "metadata": {},
   "outputs": [],
   "source": [
    "def nchoosem(n, m):\n",
    "    \"\"\"blurb here\"\"\"\n",
    "    c = math.comb(n, m)\n",
    "    trt = np.array(list(combinations(np.arange(n), m)))\n",
    "    Z = np.zeros((c, n))\n",
    "    for i in np.arange(c):\n",
    "        Z[i, trt[i, :]] = 1\n",
    "    return Z"
   ]
  },
  {
   "cell_type": "code",
   "execution_count": 3,
   "metadata": {},
   "outputs": [
    {
     "data": {
      "text/plain": [
       "array([[1., 1., 1., 0., 0.],\n",
       "       [1., 1., 0., 1., 0.],\n",
       "       [1., 1., 0., 0., 1.],\n",
       "       [1., 0., 1., 1., 0.],\n",
       "       [1., 0., 1., 0., 1.],\n",
       "       [1., 0., 0., 1., 1.],\n",
       "       [0., 1., 1., 1., 0.],\n",
       "       [0., 1., 1., 0., 1.],\n",
       "       [0., 1., 0., 1., 1.],\n",
       "       [0., 0., 1., 1., 1.]])"
      ]
     },
     "execution_count": 3,
     "metadata": {},
     "output_type": "execute_result"
    }
   ],
   "source": [
    "n = 5\n",
    "m = 3\n",
    "c = list(combinations(np.arange(5), 3))\n",
    "nchoosem(n, m)"
   ]
  },
  {
   "cell_type": "code",
   "execution_count": 4,
   "metadata": {},
   "outputs": [
    {
     "data": {
      "text/plain": [
       "array([[0, 1, 1, 1, 0],\n",
       "       [0, 1, 0, 1, 1],\n",
       "       [0, 1, 0, 1, 1],\n",
       "       [0, 1, 0, 1, 1],\n",
       "       [1, 0, 0, 1, 1]])"
      ]
     },
     "execution_count": 4,
     "metadata": {},
     "output_type": "execute_result"
    }
   ],
   "source": [
    "def comb(n, m, nperm):\n",
    "    trt = np.zeros((nperm,m), dtype=int)\n",
    "    for i in np.arange(0, nperm):\n",
    "        trt[i,] = np.random.choice(n, size=m, replace=False)\n",
    "\n",
    "    Z = np.zeros((nperm,n), dtype=int)\n",
    "    \n",
    "    for i in np.arange(0, nperm):\n",
    "        Z[i,trt[i,]] = 1\n",
    "\n",
    "    return Z\n",
    "\n",
    "comb(n, m, n)"
   ]
  },
  {
   "cell_type": "code",
   "execution_count": 5,
   "metadata": {},
   "outputs": [
    {
     "data": {
      "text/plain": [
       "0.36507936507936506"
      ]
     },
     "execution_count": 5,
     "metadata": {},
     "output_type": "execute_result"
    }
   ],
   "source": [
    "n11 = 4\n",
    "n01 = 3\n",
    "n00 = 2\n",
    "n10 = 1\n",
    "m = n10 + n11\n",
    "n = n11 + n01 + n00 + n10\n",
    "N11 = 3\n",
    "Z_all = nchoosem(n, m)\n",
    "tau_obs = n11/m - n01/(n-m)\n",
    "\n",
    "def pval_two(n, m, N, Z_all, tau_obs):\n",
    "    n_Z_all = Z_all.shape[0]\n",
    "    dat = np.zeros((n, 2))\n",
    "    N = [int(x) for x in N]\n",
    "    if N[0] > 0:\n",
    "        dat[0:N[0], :] = 1\n",
    "    if N[1] > 0:\n",
    "        dat[(N[0]): (N[0] + N[1]), 0] = 1\n",
    "        dat[(N[0]): (N[0] + N[1]), 1] = 0\n",
    "    if N[2] > 0:\n",
    "        dat[(N[0]+N[1]):(N[0]+N[1]+N[2]), 0] = 0\n",
    "        dat[(N[0]+N[1]):(N[0]+N[1]+N[2]), 1] = 1\n",
    "    if N[3] > 0:\n",
    "        dat[(N[0]+N[1]+N[2]):(N[0]+N[1]+N[2]+N[3]), ] = 0\n",
    "    tau_hat = np.matmul(Z_all, dat[:, 0])/(m) - np.matmul((1 - Z_all), dat[:, 1])/(n-m)\n",
    "    tau_N = (N[1]-N[2])/n \n",
    "    pd = sum(np.round(np.abs(tau_hat-tau_N),15)>=np.round(np.abs(tau_obs-tau_N),15))/n_Z_all\n",
    "    return pd\n",
    "\n",
    "pval_two(n, m, np.array([1,2,3,4]), Z_all, tau_obs)"
   ]
  },
  {
   "cell_type": "code",
   "execution_count": 6,
   "metadata": {},
   "outputs": [
    {
     "data": {
      "text/plain": [
       "[True, True]"
      ]
     },
     "execution_count": 6,
     "metadata": {},
     "output_type": "execute_result"
    }
   ],
   "source": [
    "def check_compatible(n11, n10, n01, n00, N11, N10, N01):\n",
    "    n = n11 + n10 + n01 + n00\n",
    "    n_t = len(N10)\n",
    "    left = np.max(np.array([np.repeat(0, n_t), n11 - np.array(N10), np.array(N11) - n01, np.array(N11) + np.array(N01)-n10-n01]), axis=0)\n",
    "    right = np.min(np.array([np.array(N11), np.repeat(n11, n_t), np.array(N11) + np.array(N01) - n01, n-np.array(N10)-n01-n10]), axis=0)\n",
    "    compat = left <= right\n",
    "    return list(compat)\n",
    "\n",
    "check_compatible(1, 5, 12, 13, np.array([5, 6]), np.array([6,8]), np.array([7, 8]))"
   ]
  },
  {
   "cell_type": "code",
   "execution_count": 100,
   "metadata": {},
   "outputs": [
    {
     "data": {
      "text/plain": [
       "{'tau_min': -0.3,\n",
       " 'tau_max': 0.2,\n",
       " 'N_accept_min': array([3., 1., 4., 2.]),\n",
       " 'N_accept_max': array([3., 3., 1., 3.]),\n",
       " 'rand_test_num': 8}"
      ]
     },
     "execution_count": 100,
     "metadata": {},
     "output_type": "execute_result"
    }
   ],
   "source": [
    "def tau_lower_N11_twoside(n11, n10, n01, n00, N11, Z_all, alpha):\n",
    "    \"\"\"blurb here\"\"\"\n",
    "    n = n11 + n10 + n01 + n00\n",
    "    m = n11 + n10\n",
    "    tau_obs = n11 / m - n01 / (n - m)\n",
    "    ntau_obs = n * n11 / m - n * n01 / (n - m)\n",
    "    # N01 range from max((-n*tau_obs),0) to n-N11\n",
    "    N10 = 0\n",
    "    N01_vec0 = np.arange(0, (n-N11)+1)[np.arange(0, (n-N11)+1) >= (-ntau_obs)] #  check if c() is inclusive\n",
    "    N01 = min(N01_vec0)\n",
    "    M = np.repeat(np.nan, len(N01_vec0))\n",
    "    ### need to change\n",
    "    ### counting number of randomization test\n",
    "    rand_test_num = 0\n",
    "    while (N10 <= (n - N11 - N01) and N01 <= (n - N11)):\n",
    "        if N10 <= (N01 + ntau_obs):\n",
    "            pl = pval_two(n, m, np.array([N11, N10, N01, n - (N11 + N10 + N01)]), Z_all, tau_obs)\n",
    "            rand_test_num += 1\n",
    "            if pl >= alpha:\n",
    "                M[N01_vec0 == N01] = N10\n",
    "                N01 = N01 + 1\n",
    "            else:\n",
    "                N10 = N10 + 1\n",
    "        else:\n",
    "            M[N01_vec0 == N01] = N10\n",
    "            N01 = N01 + 1\n",
    "    if N01 <= (n - N11):\n",
    "        M[N01_vec0 >= N01] = np.floor(N01_vec0[N01_vec0 >= N01] + ntau_obs) + 1\n",
    "    N11_vec0 = np.repeat(N11, len(N01_vec0))\n",
    "    N10_vec0 = M\n",
    "    N11_vec = np.array([])\n",
    "    N10_vec = np.array([])\n",
    "    N01_vec = np.array([])\n",
    "    for i in np.arange(len(N11_vec0)):\n",
    "        N10_upper = min((n - N11_vec0[i] - N01_vec0[i]), np.floor(N01_vec0[i] + ntau_obs))\n",
    "        if N10_vec0[i] <= N10_upper:\n",
    "            N10_vec = np.append(N10_vec, np.array(np.arange(N10_vec0[i], N10_upper + 1)))\n",
    "            N11_vec = np.append(N11_vec, np.repeat(N11_vec0[i], (N10_upper-N10_vec0[i]+1)))\n",
    "            N01_vec = np.append(N01_vec, np.repeat(N01_vec0[i], (N10_upper-N10_vec0[i]+1)))\n",
    "\n",
    "    compat = check_compatible(n11, n10, n01, n00, N11_vec, N10_vec, N01_vec)\n",
    "    \n",
    "    if sum(compat) > 0:\n",
    "        tau_min = min(N10_vec[compat] - N01_vec[compat]) / n\n",
    "        accept_pos = np.where((N10_vec[compat] - N01_vec[compat]) == n * tau_min)\n",
    "        accept_pos = accept_pos[0]\n",
    "        N_accept_min = np.array([N11, N10_vec[compat][accept_pos][0], N01_vec[compat][accept_pos][0], n-(N11+N10_vec[compat][accept_pos]+N01_vec[compat][accept_pos])[0]])\n",
    "        tau_max = max(N10_vec[compat] - N01_vec[compat]) / n\n",
    "        accept_pos = np.where((N10_vec[compat] - N01_vec[compat]) == n * tau_max)\n",
    "        accept_pos = accept_pos[0]\n",
    "        N_accept_max = np.array([N11, N10_vec[compat][accept_pos][0], N01_vec[compat][accept_pos][0], n-(N11+N10_vec[compat][accept_pos]+N01_vec[compat][accept_pos])[0]])\n",
    "    else:\n",
    "        tau_min = math.inf\n",
    "        N_accept_min = np.nan\n",
    "        tau_max = -math.inf\n",
    "        N_accept_max = np.nan\n",
    "    return {\"tau_min\": tau_min, \"tau_max\": tau_max, \"N_accept_min\": N_accept_min, \"N_accept_max\":N_accept_max, \"rand_test_num\":rand_test_num}\n",
    "\n",
    "\n",
    "tau_lower_N11_twoside(n11, n10, n01, n00, N11, Z_all, .05)"
   ]
  },
  {
   "cell_type": "code",
   "execution_count": 101,
   "metadata": {},
   "outputs": [
    {
     "data": {
      "text/plain": [
       "{'tau_lower': -0.3,\n",
       " 'N_accept_lower': array([3., 1., 4., 2.]),\n",
       " 'tau_upper': 0.2,\n",
       " 'N_accept_upper': array([0., 5., 3., 2.]),\n",
       " 'rand_test_total': 60}"
      ]
     },
     "execution_count": 101,
     "metadata": {},
     "output_type": "execute_result"
    }
   ],
   "source": [
    "def tau_twoside_lower(n11, n10, n01, n00, alpha, Z_all):\n",
    "    n = n11+n10+n01+n00\n",
    "    m = n11+n10\n",
    "    tau_obs = n11/m - n01/(n-m)\n",
    "    ntau_obs = n*n11/m - n* n01/(n-m)\n",
    "    tau_min = math.inf\n",
    "    tau_max = -math.inf\n",
    "    N_accept_min = np.nan\n",
    "    N_accept_max = np.nan\n",
    "    rand_test_total = 0\n",
    "    \n",
    "    for N11 in np.arange(0, min((n11+n01)+1, n+ntau_obs)):\n",
    "        N01_vec0 = np.arange(0, n-N11+1)[np.arange(0, (n-N11)+1) >= (-ntau_obs)]\n",
    "        if len(list(N01_vec0)) == 0:\n",
    "            break\n",
    "        tau_min_N11 = tau_lower_N11_twoside(n11, n10, n01, n00, N11, Z_all, alpha)\n",
    "        # assumes that tau_lower_N11_twoside output is a dictionary\n",
    "        rand_test_total = rand_test_total + tau_min_N11[\"rand_test_num\"] \n",
    "        if(tau_min_N11[\"tau_min\"] < tau_min):\n",
    "            N_accept_min = tau_min_N11[\"N_accept_min\"]\n",
    "        if(tau_min_N11[\"tau_max\"] > tau_max):\n",
    "            N_accept_max = tau_min_N11[\"N_accept_max\"]\n",
    "        tau_min = min(tau_min, tau_min_N11[\"tau_min\"])\n",
    "        tau_max = max(tau_max, tau_min_N11[\"tau_max\"])\n",
    "    \n",
    "    tau_lower = tau_min\n",
    "    tau_upper = tau_max\n",
    "    N_accept_lower = N_accept_min\n",
    "    N_accept_upper = N_accept_max \n",
    "                      \n",
    "    dict_output = {'tau_lower':tau_lower, 'N_accept_lower':N_accept_lower, \n",
    "                   'tau_upper':tau_upper, 'N_accept_upper':N_accept_upper,\n",
    "                  'rand_test_total':rand_test_total}\n",
    "    return dict_output\n",
    "\n",
    "tau_twoside_lower(n11, n10, n01, n00, 0.05, Z_all)"
   ]
  },
  {
   "cell_type": "code",
   "execution_count": 104,
   "metadata": {},
   "outputs": [
    {
     "data": {
      "text/plain": [
       "{'tau_lower': -0.3,\n",
       " 'tau_upper': 0.6,\n",
       " 'N_accept_lower': array([3., 1., 4., 2.]),\n",
       " 'N_accept_upper': array([3., 6., 0., 1.]),\n",
       " 'rand_test_total': 90}"
      ]
     },
     "execution_count": 104,
     "metadata": {},
     "output_type": "execute_result"
    }
   ],
   "source": [
    "def tau_twoside_less_treated(n11, n10, n01, n00, alpha, nperm):\n",
    "    n = n11 + n10 + n01 + n00\n",
    "    m = n11 + n10\n",
    "    if scipy.special.comb(n, m, exact=True) <= nperm:\n",
    "        Z_all = nchoosem(n, m)\n",
    "    else:\n",
    "        Z_all = comb(n, m, nperm)\n",
    "    \n",
    "    ci_lower = tau_twoside_lower(n11, n10, n01, n00, alpha, Z_all)\n",
    "    ci_upper = tau_twoside_lower(n10, n11, n00, n01, alpha, Z_all)\n",
    "\n",
    "    # this implementation depends on tau_twoside_lower returning a dictionary\n",
    "    rand_test_total = ci_lower[\"rand_test_total\"] + ci_upper[\"rand_test_total\"]\n",
    "\n",
    "\n",
    "    tau_lower = min(ci_lower[\"tau_lower\"], -1 * ci_upper[\"tau_upper\"])\n",
    "    tau_upper = max(ci_lower[\"tau_upper\"], -1 * ci_upper[\"tau_lower\"])\n",
    "\n",
    "\n",
    "    if tau_lower == ci_lower[\"tau_lower\"]:\n",
    "        N_accept_lower = ci_lower[\"N_accept_lower\"]\n",
    "    else:\n",
    "        # reverse N_accept_upper\n",
    "        N_accept_lower = np.flipud(ci_upper[\"N_accept_upper\"])\n",
    "\n",
    "    if tau_upper == -1 * ci_upper[\"tau_lower\"]:\n",
    "        # reverse N_accept_lower\n",
    "        N_accept_upper = np.flipud(ci_upper[\"N_accept_lower\"])\n",
    "    else:\n",
    "        N_accept_upper = ci_lower[\"N_accept_upper\"]\n",
    "\n",
    "    return {\"tau_lower\": tau_lower, \"tau_upper\": tau_upper,  \"N_accept_lower\": N_accept_lower, \"N_accept_upper\": N_accept_upper, \"rand_test_total\": rand_test_total}\n",
    "\n",
    "tau_twoside_less_treated(n11, n10, n01, n00, 0.05, 10**5)"
   ]
  },
  {
   "cell_type": "code",
   "execution_count": 106,
   "metadata": {},
   "outputs": [
    {
     "data": {
      "text/plain": [
       "{'tau_lower': -0.3,\n",
       " 'tau_upper': 0.6,\n",
       " 'N_accept_lower': array([3., 1., 4., 2.]),\n",
       " 'N_accept_upper': array([3., 6., 0., 1.]),\n",
       " 'rand_test_total': 90}"
      ]
     },
     "execution_count": 106,
     "metadata": {},
     "output_type": "execute_result"
    }
   ],
   "source": [
    "def tau_twoside(n11, n10, n01, n00, alpha, nperm):\n",
    "    n = n11 + n10 + n01 + n00\n",
    "    m = n11 + n10\n",
    "    if m > (n/2):\n",
    "        ci = tau_twoside_less_treated(n01, n00, n11, n10, alpha, nperm)\n",
    "        tau_lower = -ci[\"tau_upper\"] \n",
    "        tau_upper = -ci[\"tau_lower\"]\n",
    "        N_accept_lower = ci[\"N_accept_lower\"][[0, 2, 1, 3]]\n",
    "        N_accept_upper = ci[\"N_accept_upper\"][[0, 2, 1, 3]]\n",
    "        rand_test_total = ci[\"rand_test_total\"]\n",
    "    else:\n",
    "        ci = tau_twoside_less_treated(n11, n10, n01, n00, alpha, nperm)\n",
    "        tau_lower = ci[\"tau_lower\"]\n",
    "        tau_upper = ci[\"tau_upper\"]  \n",
    "        N_accept_lower = ci[\"N_accept_lower\"]\n",
    "        N_accept_upper = ci[\"N_accept_upper\"]\n",
    "        rand_test_total = ci[\"rand_test_total\"]\n",
    "\n",
    "    return {\"tau_lower\": tau_lower, \"tau_upper\": tau_upper, \"N_accept_lower\": N_accept_lower, \"N_accept_upper\": N_accept_upper, \"rand_test_total\": rand_test_total}\n",
    "\n",
    "tau_twoside(n11, n10, n01, n00, 0.05, 10**5)"
   ]
  },
  {
   "cell_type": "code",
   "execution_count": 107,
   "metadata": {},
   "outputs": [
    {
     "data": {
      "text/plain": [
       "{'tau_lower': -0.0625,\n",
       " 'tau_upper': 0.875,\n",
       " 'N_accept_lower': array([ 1.,  0.,  1., 14.]),\n",
       " 'N_accept_upper': array([ 1., 14.,  0.,  1.]),\n",
       " 'rand_test_total': 103}"
      ]
     },
     "execution_count": 107,
     "metadata": {},
     "output_type": "execute_result"
    }
   ],
   "source": [
    "tau_twoside(1, 1, 1, 13, .05, 10**5)"
   ]
  },
  {
   "cell_type": "code",
   "execution_count": 108,
   "metadata": {},
   "outputs": [
    {
     "data": {
      "text/plain": [
       "{'tau_lower': -0.875,\n",
       " 'tau_upper': -0.3125,\n",
       " 'N_accept_lower': array([ 2.,  0., 14.,  0.]),\n",
       " 'N_accept_upper': array([8., 0., 5., 3.]),\n",
       " 'rand_test_total': 112}"
      ]
     },
     "execution_count": 108,
     "metadata": {},
     "output_type": "execute_result"
    }
   ],
   "source": [
    "tau_twoside(2, 6, 8, 0, .05, 10**5)"
   ]
  },
  {
   "cell_type": "code",
   "execution_count": 82,
   "metadata": {},
   "outputs": [
    {
     "data": {
      "text/plain": [
       "{'tau_lower': -0.2,\n",
       " 'tau_upper': 0.4,\n",
       " 'N_accept_lower': array([13.,  0.,  4.,  3.]),\n",
       " 'N_accept_upper': array([11.,  8.,  0.,  1.]),\n",
       " 'rand_test_total': 283}"
      ]
     },
     "execution_count": 82,
     "metadata": {},
     "output_type": "execute_result"
    }
   ],
   "source": [
    "tau_twoside(6, 0, 11, 3, .05, 10**5)"
   ]
  },
  {
   "cell_type": "code",
   "execution_count": 75,
   "metadata": {},
   "outputs": [
    {
     "data": {
      "text/plain": [
       "{'tau_lower': -0.7,\n",
       " 'N_accept_lower': array([1., 0., 7., 2.]),\n",
       " 'tau_upper': -0.4,\n",
       " 'N_accept_upper': array([0., 1., 5., 4.]),\n",
       " 'rand_test_total': 25}"
      ]
     },
     "execution_count": 75,
     "metadata": {},
     "output_type": "execute_result"
    }
   ],
   "source": [
    "# testing output with Kanika\n",
    "n00 = 2\n",
    "n01 = 3\n",
    "n10 = 4\n",
    "n11 = 1\n",
    "m = n10 + n11 #m is small n\n",
    "N = n00 + n01 + n10 + n11\n",
    "alpha = 0.05\n",
    "Z_all = nchoosem(N, m)\n",
    "obs_tau = n11/m - n01/(N-m)\n",
    "Z_all = nchoosem(N,m)\n",
    "N11 = 3\n",
    "output = tau_twoside_lower(n11, n10, n01, n00, alpha, Z_all)\n",
    "output"
   ]
  },
  {
   "cell_type": "code",
   "execution_count": 76,
   "metadata": {},
   "outputs": [
    {
     "data": {
      "text/plain": [
       "{'tau_lower': -0.7,\n",
       " 'tau_upper': 0.2,\n",
       " 'N_accept_lower': array([1., 0., 7., 2.]),\n",
       " 'N_accept_upper': array([4., 2., 0., 4.]),\n",
       " 'rand_test_total': 81}"
      ]
     },
     "execution_count": 76,
     "metadata": {},
     "output_type": "execute_result"
    }
   ],
   "source": [
    "# testing output with Kanika pt. 2\n",
    "n00 = 2\n",
    "n01 = 3\n",
    "n10 = 4\n",
    "n11 = 1\n",
    "m = n10 + n11 #m is small n\n",
    "N = n00 + n01 + n10 + n11\n",
    "alpha = 0.05\n",
    "Z_all = nchoosem(N, m)\n",
    "obs_tau = n11/m - n01/(N-m)\n",
    "Z_all = nchoosem(N,m)\n",
    "N11 = 3\n",
    "output = tau_twoside_less_treated(n11, n10, n01, n00, alpha, 10000)\n",
    "output"
   ]
  },
  {
   "cell_type": "markdown",
   "metadata": {
    "tags": []
   },
   "source": [
    "output[‘tau_lower’] == -0.7 and np.all(output[‘N_accept_lower’] ==  np.array([1,0,7,2])) and output[‘tau_upper’] == -0.4 and np.all(output[‘N_accept_upper’] == np.array([0,1,7,2])) and output[‘rand_test_total’] == 25\n",
    "\n"
   ]
  },
  {
   "cell_type": "markdown",
   "metadata": {},
   "source": [
    "and the second chunk output[‘tau_lower’] == -0.7 and output[‘tau_upper’] == 0.2 and np.all(output[‘N_accept_lower’] == np.array([1,0,7,2])) and np.all(output[‘N_accept_upper’] == np.array([4,2,0,4])) and output[‘rand_test_total’] == 81\n",
    "\n"
   ]
  },
  {
   "cell_type": "code",
   "execution_count": null,
   "metadata": {},
   "outputs": [],
   "source": [
    "# hold for now\n",
    "while (N10 <= n-N11-N01).any() and (N01 <= (n-N11)).any():\n",
    "    if N10 <= N01 + ntau_obs:\n",
    "        pl = pval_two(n, m, np.array([N11, N10, N01, n-(N11+N10+N01)]), Z_all, tau_obs)\n",
    "        rand_test_num += 1"
   ]
  },
  {
   "cell_type": "code",
   "execution_count": 51,
   "metadata": {},
   "outputs": [],
   "source": [
    "def tau_twosided_ci(n11, n10, n01, n00, alpha, exact=True,\n",
    "                   max_combinations=10**5, reps=10**3):\n",
    "    \"\"\"\n",
    "    FIX.\n",
    "\n",
    "    Checking to see if the inputs of the subject\n",
    "    groups are able to be passed in correctly.\n",
    "\n",
    "    Parameters\n",
    "    ----------\n",
    "    n11 : int\n",
    "        number of people who fall under group n11\n",
    "    n10 : int\n",
    "        number of people who fall under group n10\n",
    "    n01 : int\n",
    "        number of people who fall under group n01\n",
    "    n00 : int\n",
    "        number of people who fall under group n00\n",
    "    N11 : array\n",
    "        values of all n11\n",
    "    Z_all : matrix\n",
    "        the output from the function nchoosem\n",
    "    alpha : float\n",
    "        the alpha cutoff value desired\n",
    "\n",
    "    Returns\n",
    "    --------\n",
    "    compat : list\n",
    "        True or False values of compatible inputs\n",
    "    \"\"\"\n",
    "    n = n11 + n10 + n01 + n00\n",
    "    m = n11 + n10\n",
    "\n",
    "    if exact is True:\n",
    "        reps = scipy.special.comb(n, m, exact=True)\n",
    "        if reps > max_combinations:\n",
    "            raise ValueError(\n",
    "                \"Number of reps can't exceed max_combinations\")\n",
    "\n",
    "    if m > (n/2):\n",
    "        ci = tau_twoside_less_treated(n01, n00, n11, n10, alpha, reps)\n",
    "        tau_lower = -ci[\"tau_upper\"]\n",
    "        tau_upper = -ci[\"tau_lower\"]\n",
    "        N_accept_lower = ci[\"N_accept_lower\"][[0, 2, 1, 3]]\n",
    "        N_accept_upper = ci[\"N_accept_upper\"][[0, 2, 1, 3]]\n",
    "        rand_test_total = ci[\"rand_test_total\"]\n",
    "    else:\n",
    "        ci = tau_twoside_less_treated(n11, n10, n01, n00, alpha, reps)\n",
    "        tau_lower = ci[\"tau_lower\"]\n",
    "        tau_upper = ci[\"tau_upper\"]\n",
    "        N_accept_lower = ci[\"N_accept_lower\"]\n",
    "        N_accept_upper = ci[\"N_accept_upper\"]\n",
    "        rand_test_total = ci[\"rand_test_total\"]\n",
    "\n",
    "    bounds = [tau_lower*n, tau_upper*n]\n",
    "    allocation = [N_accept_lower, N_accept_upper]\n",
    "    tables_reps = [rand_test_total, reps]\n",
    "    return bounds, allocation, tables_reps"
   ]
  },
  {
   "cell_type": "code",
   "execution_count": 52,
   "metadata": {},
   "outputs": [
    {
     "data": {
      "text/plain": [
       "([-1.0, 14.0],\n",
       " [array([ 1.,  0.,  1., 14.]), array([ 1., 14.,  0.,  1.])],\n",
       " [102, 120])"
      ]
     },
     "execution_count": 52,
     "metadata": {},
     "output_type": "execute_result"
    }
   ],
   "source": [
    "# answer is same everytime bc exact=True\n",
    "tau_twosided_ci(1, 1, 1, 13, .05, exact=True, max_combinations=10**5)"
   ]
  },
  {
   "cell_type": "code",
   "execution_count": 47,
   "metadata": {},
   "outputs": [
    {
     "ename": "ValueError",
     "evalue": "Number of reps can't exceed max_combinations",
     "output_type": "error",
     "traceback": [
      "\u001b[0;31m---------------------------------------------------------------------------\u001b[0m",
      "\u001b[0;31mValueError\u001b[0m                                Traceback (most recent call last)",
      "\u001b[0;32m<ipython-input-47-d7b2386ab57d>\u001b[0m in \u001b[0;36m<module>\u001b[0;34m\u001b[0m\n\u001b[1;32m      1\u001b[0m \u001b[0;31m# errors bc exact=True and # combinations > max_combinations\u001b[0m\u001b[0;34m\u001b[0m\u001b[0;34m\u001b[0m\u001b[0;34m\u001b[0m\u001b[0m\n\u001b[0;32m----> 2\u001b[0;31m \u001b[0mtau_twosided_ci\u001b[0m\u001b[0;34m(\u001b[0m\u001b[0;36m1\u001b[0m\u001b[0;34m,\u001b[0m \u001b[0;36m1\u001b[0m\u001b[0;34m,\u001b[0m \u001b[0;36m1\u001b[0m\u001b[0;34m,\u001b[0m \u001b[0;36m13\u001b[0m\u001b[0;34m,\u001b[0m \u001b[0;36m.05\u001b[0m\u001b[0;34m,\u001b[0m \u001b[0mexact\u001b[0m\u001b[0;34m=\u001b[0m\u001b[0;32mTrue\u001b[0m\u001b[0;34m,\u001b[0m \u001b[0mmax_combinations\u001b[0m\u001b[0;34m=\u001b[0m\u001b[0;36m2\u001b[0m\u001b[0;34m)\u001b[0m\u001b[0;34m\u001b[0m\u001b[0;34m\u001b[0m\u001b[0m\n\u001b[0m",
      "\u001b[0;32m<ipython-input-44-9b4f50fa8c89>\u001b[0m in \u001b[0;36mtau_twosided_ci\u001b[0;34m(n11, n10, n01, n00, alpha, exact, max_combinations, reps)\u001b[0m\n\u001b[1;32m     35\u001b[0m         \u001b[0mreps\u001b[0m \u001b[0;34m=\u001b[0m \u001b[0mscipy\u001b[0m\u001b[0;34m.\u001b[0m\u001b[0mspecial\u001b[0m\u001b[0;34m.\u001b[0m\u001b[0mcomb\u001b[0m\u001b[0;34m(\u001b[0m\u001b[0mn\u001b[0m\u001b[0;34m,\u001b[0m \u001b[0mm\u001b[0m\u001b[0;34m,\u001b[0m \u001b[0mexact\u001b[0m\u001b[0;34m=\u001b[0m\u001b[0;32mTrue\u001b[0m\u001b[0;34m)\u001b[0m\u001b[0;34m\u001b[0m\u001b[0;34m\u001b[0m\u001b[0m\n\u001b[1;32m     36\u001b[0m         \u001b[0;32mif\u001b[0m \u001b[0mreps\u001b[0m \u001b[0;34m>\u001b[0m \u001b[0mmax_combinations\u001b[0m\u001b[0;34m:\u001b[0m\u001b[0;34m\u001b[0m\u001b[0;34m\u001b[0m\u001b[0m\n\u001b[0;32m---> 37\u001b[0;31m             raise ValueError(\n\u001b[0m\u001b[1;32m     38\u001b[0m                 \"Number of reps can't exceed max_combinations\")\n\u001b[1;32m     39\u001b[0m \u001b[0;34m\u001b[0m\u001b[0m\n",
      "\u001b[0;31mValueError\u001b[0m: Number of reps can't exceed max_combinations"
     ]
    }
   ],
   "source": [
    "# errors bc exact=True and # combinations > max_combinations\n",
    "tau_twosided_ci(1, 1, 1, 13, .05, exact=True, max_combinations=2)"
   ]
  },
  {
   "cell_type": "code",
   "execution_count": 48,
   "metadata": {},
   "outputs": [
    {
     "data": {
      "text/plain": [
       "([2.0, 11.0],\n",
       " [array([ 2.,  3.,  1., 10.]), array([ 1., 11.,  0.,  4.])],\n",
       " [102, 2])"
      ]
     },
     "execution_count": 48,
     "metadata": {},
     "output_type": "execute_result"
    }
   ],
   "source": [
    "# answer varies due to random chance bc exact=False and # of reps is low\n",
    "tau_twosided_ci(1, 1, 1, 13, .05, exact=False, max_combinations=10**5, reps=2)"
   ]
  },
  {
   "cell_type": "code",
   "execution_count": null,
   "metadata": {},
   "outputs": [],
   "source": []
  }
 ],
 "metadata": {
  "kernelspec": {
   "display_name": "Python 3",
   "language": "python",
   "name": "python3"
  },
  "language_info": {
   "codemirror_mode": {
    "name": "ipython",
    "version": 3
   },
   "file_extension": ".py",
   "mimetype": "text/x-python",
   "name": "python",
   "nbconvert_exporter": "python",
   "pygments_lexer": "ipython3",
   "version": "3.8.8"
  }
 },
 "nbformat": 4,
 "nbformat_minor": 4
}
